{
 "cells": [
  {
   "cell_type": "markdown",
   "metadata": {},
   "source": [
    "# Model Training Notebook\n",
    "\n",
    "This notebook is designed for training two classifiers: a Convolutional Neural Network (CNN) built from scratch and a pretrained audio model fine-tuned on the BirdCLEF 2025 data. We will load the processed mel spectrogram images, encode the labels, and evaluate the models using accuracy and confusion matrices."
   ]
  },
  {
   "cell_type": "code",
   "execution_count": null,
   "metadata": {
    "collapsed": false
   },
   "outputs": [],
   "source": [
    "# Import necessary libraries\n",
    "import os\n",
    "import numpy as np\n",
    "import pandas as pd\n",
    "import matplotlib.pyplot as plt\n",
    "from sklearn.model_selection import train_test_split\n",
    "from sklearn.metrics import accuracy_score, confusion_matrix\n",
    "import seaborn as sns\n",
    "\n",
    "# Import custom scripts\n",
    "from scripts.utils import load_data, plot_confusion_matrix\n",
    "from models.cnn_model import create_cnn_model\n",
    "from models.pretrained_model import load_pretrained_model\n",
    "\n",
    "# Set paths\n",
    "mel_spectrograms_dir = 'data/processed/mel_spectrograms/'\n",
    "labels_dir = 'data/processed/labels/'\n",
    "\n",
    "# Load data\n",
    "X, y = load_data(mel_spectrograms_dir, labels_dir)\n",
    "\n",
    "# Split data into training, validation, and testing sets\n",
    "X_train, X_temp, y_train, y_temp = train_test_split(X, y, test_size=0.2, random_state=42)\n",
    "X_val, X_test, y_val, y_test = train_test_split(X_temp, y_temp, test_size=0.5, random_state=42)\n",
    "\n",
    "# Train the CNN model\n",
    "cnn_model = create_cnn_model(input_shape=X_train.shape[1:])\n",
    "cnn_model.compile(optimizer='adam', loss='sparse_categorical_crossentropy', metrics=['accuracy'])\n",
    "\n",
    "# Fit the model\n",
    "history = cnn_model.fit(X_train, y_train, validation_data=(X_val, y_val), epochs=10, batch_size=32)\n",
    "\n",
    "# Evaluate the CNN model\n",
    "y_pred_cnn = np.argmax(cnn_model.predict(X_test), axis=-1)\n",
    "cnn_accuracy = accuracy_score(y_test, y_pred_cnn)\n",
    "print(f'CNN Test Accuracy: {cnn_accuracy:.4f}')\n",
    "\n",
    "# Confusion matrix for CNN\n",
    "cm_cnn = confusion_matrix(y_test, y_pred_cnn)\n",
    "plt.figure(figsize=(10, 7))\n",
    "plot_confusion_matrix(cm_cnn, classes=np.unique(y), title='CNN Confusion Matrix')\n",
    "\n",
    "# Load and fine-tune the pretrained model\n",
    "pretrained_model = load_pretrained_model()\n",
    "pretrained_model.compile(optimizer='adam', loss='sparse_categorical_crossentropy', metrics=['accuracy'])\n",
    "\n",
    "# Fit the pretrained model\n",
    "history_pretrained = pretrained_model.fit(X_train, y_train, validation_data=(X_val, y_val), epochs=10, batch_size=32)\n",
    "\n",
    "# Evaluate the pretrained model\n",
    "y_pred_pretrained = np.argmax(pretrained_model.predict(X_test), axis=-1)\n",
    "pretrained_accuracy = accuracy_score(y_test, y_pred_pretrained)\n",
    "print(f'Pretrained Model Test Accuracy: {pretrained_accuracy:.4f}')\n",
    "\n",
    "# Confusion matrix for pretrained model\n",
    "cm_pretrained = confusion_matrix(y_test, y_pred_pretrained)\n",
    "plt.figure(figsize=(10, 7))\n",
    "plot_confusion_matrix(cm_pretrained, classes=np.unique(y), title='Pretrained Model Confusion Matrix')"
   ]
  },
  {
   "cell_type": "markdown",
   "metadata": {},
   "source": [
    "## Conclusion\n",
    "\n",
    "In this notebook, we trained a CNN from scratch and fine-tuned a pretrained model on the BirdCLEF 2025 dataset. We evaluated both models using accuracy scores and confusion matrices to understand their performance on the test set."
   ]
  }
 ],
 "metadata": {
  "kernelspec": {
   "display_name": "Python 3",
   "language": "python",
   "name": "python3"
  },
  "language_info": {
   "codemirror_mode": {
    "name": "ipython",
    "version": 3
   },
   "file_extension": ".py",
   "mimetype": "text/x-python",
   "name": "python",
   "nbconvert_exporter": "python",
   "pygments_lexer": "ipython3",
   "version": "3.8.5"
  }
 },
 "nbformat": 4,
 "nbformat_minor": 4
}